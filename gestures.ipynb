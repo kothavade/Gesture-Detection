{
 "cells": [
  {
   "cell_type": "markdown",
   "metadata": {},
   "source": [
    "Import OpenCV for computer vision, NumPy for array operations, and PyAutoGUI to interact with the computer."
   ]
  },
  {
   "cell_type": "code",
   "execution_count": 92,
   "metadata": {},
   "outputs": [],
   "source": [
    "import time\n",
    "import cv2 as cv\n",
    "import numpy as np\n",
    "import pyautogui"
   ]
  },
  {
   "cell_type": "markdown",
   "metadata": {},
   "source": [
    "Get webcam input."
   ]
  },
  {
   "cell_type": "code",
   "execution_count": 93,
   "metadata": {},
   "outputs": [],
   "source": [
    "cap = cv.VideoCapture(0)"
   ]
  },
  {
   "cell_type": "markdown",
   "metadata": {},
   "source": [
    "Create a MOG2 Background Subtractor and make a kernel for it."
   ]
  },
  {
   "cell_type": "code",
   "execution_count": 94,
   "metadata": {},
   "outputs": [],
   "source": [
    "fgbg = cv.createBackgroundSubtractorMOG2()\n",
    "kernel = cv.getStructuringElement(cv.MORPH_ELLIPSE, (3, 3))"
   ]
  },
  {
   "cell_type": "markdown",
   "metadata": {},
   "source": [
    "Create a buffer to store previous distances between the LEDs."
   ]
  },
  {
   "cell_type": "code",
   "execution_count": 95,
   "metadata": {},
   "outputs": [],
   "source": [
    "distances = []"
   ]
  },
  {
   "cell_type": "markdown",
   "metadata": {},
   "source": [
    "Keep track of frame times for an FPS counter."
   ]
  },
  {
   "cell_type": "code",
   "execution_count": 96,
   "metadata": {},
   "outputs": [],
   "source": [
    "prev_frame_time = 0\n",
    "new_frame_time = 0"
   ]
  },
  {
   "cell_type": "markdown",
   "metadata": {},
   "source": [
    "Apply the MOG2 Background Subtractor to a frame, isolating movement."
   ]
  },
  {
   "cell_type": "code",
   "execution_count": 97,
   "metadata": {},
   "outputs": [],
   "source": [
    "def apply_mask(frame):\n",
    "    fgmask = fgbg.apply(frame)\n",
    "    fgmask = cv.morphologyEx(fgmask, cv.MORPH_OPEN, kernel)\n",
    "    fgmask = cv.morphologyEx(fgmask, cv.MORPH_CLOSE, kernel)\n",
    "    return fgmask"
   ]
  },
  {
   "cell_type": "markdown",
   "metadata": {},
   "source": [
    "Apply a binary threshold to a frame, isolating white pixels."
   ]
  },
  {
   "cell_type": "code",
   "execution_count": 98,
   "metadata": {},
   "outputs": [],
   "source": [
    "def apply_threshold(frame):\n",
    "    gray = cv.cvtColor(frame, cv.COLOR_BGR2GRAY)\n",
    "    _, thresh = cv.threshold(gray, 240, 255, cv.THRESH_BINARY)\n",
    "    return thresh"
   ]
  },
  {
   "cell_type": "markdown",
   "metadata": {},
   "source": [
    "Find the centers of an array of contours."
   ]
  },
  {
   "cell_type": "code",
   "execution_count": 99,
   "metadata": {},
   "outputs": [],
   "source": [
    "def find_centers(contours):\n",
    "    centers = []\n",
    "    for contour in contours:\n",
    "        M = cv.moments(contour)\n",
    "        cx = int(M[\"m10\"] / M[\"m00\"])\n",
    "        cy = int(M[\"m01\"] / M[\"m00\"])\n",
    "        centers.append((cx, cy))\n",
    "    return centers"
   ]
  },
  {
   "cell_type": "markdown",
   "metadata": {},
   "source": [
    "Display the centers on the frame."
   ]
  },
  {
   "cell_type": "code",
   "execution_count": 100,
   "metadata": {},
   "outputs": [],
   "source": [
    "def draw_centers(frame, centers):\n",
    "    for center in centers:\n",
    "        cv.circle(frame, center, 5, (0, 0, 255), -1)\n",
    "        cv.putText(frame, str(center), center, cv.FONT_HERSHEY_SIMPLEX, 0.5, (255, 255, 255), 2)"
   ]
  },
  {
   "cell_type": "markdown",
   "metadata": {},
   "source": [
    "Find the distances between the centers."
   ]
  },
  {
   "cell_type": "code",
   "execution_count": 101,
   "metadata": {},
   "outputs": [],
   "source": [
    "def find_distances(centers):\n",
    "    return [np.linalg.norm(np.array(centers[i]) - np.array(centers[i + 1])) for i in range(0, len(centers) - 1, 2)]"
   ]
  },
  {
   "cell_type": "markdown",
   "metadata": {},
   "source": [
    "Display a connection between the centers, and display the distance."
   ]
  },
  {
   "cell_type": "code",
   "execution_count": 102,
   "metadata": {},
   "outputs": [],
   "source": [
    "def connect_centers(frame, centers, distance):\n",
    "    if len(centers) == 2:\n",
    "        cv.line(frame, centers[0], centers[1], (0, 255, 0), 2)\n",
    "        cv.putText(frame, str(distance), (10, 30), cv.FONT_HERSHEY_SIMPLEX, 1, (255, 255, 255), 2)\n"
   ]
  },
  {
   "cell_type": "markdown",
   "metadata": {},
   "source": [
    "Main logic loop, that generates webcam frames and applys gesture detection to them."
   ]
  },
  {
   "cell_type": "code",
   "execution_count": 103,
   "metadata": {},
   "outputs": [
    {
     "name": "stderr",
     "output_type": "stream",
     "text": [
      "/Users/ved/Code/IndependentStudy/gestures/.venv/lib/python3.10/site-packages/numpy/core/fromnumeric.py:3432: RuntimeWarning: Mean of empty slice.\n",
      "  return _methods._mean(a, axis=axis, dtype=dtype,\n",
      "/Users/ved/Code/IndependentStudy/gestures/.venv/lib/python3.10/site-packages/numpy/core/_methods.py:190: RuntimeWarning: invalid value encountered in double_scalars\n",
      "  ret = ret.dtype.type(ret / rcount)\n"
     ]
    }
   ],
   "source": [
    "while True:\n",
    "        _, frame = cap.read()\n",
    "        frame = cv.flip(frame, 1)\n",
    "        fgmask = apply_mask(frame)\n",
    "        thresh = apply_threshold(frame)\n",
    "        merged = cv.bitwise_and(thresh, thresh, mask=fgmask)\n",
    "        contours, _ = cv.findContours(merged, cv.RETR_TREE, cv.CHAIN_APPROX_SIMPLE)\n",
    "        if len(contours) > 0:\n",
    "            contours = [c for c in contours if cv.contourArea(c) > 100]\n",
    "            centers = find_centers(contours)\n",
    "            center = np.mean(centers, axis=0).astype(int)\n",
    "            distances = find_distances(centers)\n",
    "            draw_centers(frame, centers)\n",
    "            connect_centers(frame, centers, distances)\n",
    "            # click if distances are close\n",
    "            if len(distances) > 0 and distances[0] < 50:\n",
    "                pyautogui.click()\n",
    "                cv.putText(frame, \"CLICK\", (10, 60), cv.FONT_HERSHEY_SIMPLEX, 1, (255, 255, 255), 2)\n",
    "            if len(centers) > 0:\n",
    "                screen_width, screen_height = pyautogui.size()\n",
    "                frame_width, frame_height = frame.shape[1], frame.shape[0]\n",
    "                mouse_x = int(center[0] / frame_width * screen_width)\n",
    "                mouse_y = int(center[1] / frame_height * screen_height)\n",
    "                cv.circle(frame, (int(center[0]), int(center[1])), 5, (0, 255, 0), -1)\n",
    "                pyautogui.FAILSAFE = False\n",
    "                pyautogui.moveTo(mouse_x, mouse_y)\n",
    "        new_frame_time = time.time()\n",
    "        fps = 1 / (new_frame_time - prev_frame_time)\n",
    "        prev_frame_time = new_frame_time\n",
    "        cv.putText(\n",
    "            frame,\n",
    "            \"FPS: \" + str(fps),\n",
    "            (7, 70),\n",
    "            cv.FONT_HERSHEY_SIMPLEX,\n",
    "            2,\n",
    "            (100, 255, 0),\n",
    "            3,\n",
    "            cv.LINE_AA,\n",
    "        )\n",
    "        if cv.waitKey(1) & 0xFF == ord(\"q\"):\n",
    "            break\n",
    "        cv.imshow(\"webcam\", frame)\n",
    "        if cv.waitKey(10) & 0xFF == ord(\"q\"):\n",
    "            cap.release()\n",
    "            break"
   ]
  },
  {
   "cell_type": "markdown",
   "metadata": {},
   "source": [
    "Destroy the camera display.\n",
    "The final `waitKey(1)` is required due to a macOS bug."
   ]
  },
  {
   "cell_type": "code",
   "execution_count": 104,
   "metadata": {},
   "outputs": [
    {
     "data": {
      "text/plain": [
       "-1"
      ]
     },
     "execution_count": 104,
     "metadata": {},
     "output_type": "execute_result"
    }
   ],
   "source": [
    "cv.destroyAllWindows()\n",
    "cv.waitKey(1)"
   ]
  }
 ],
 "metadata": {
  "kernelspec": {
   "display_name": "Python 3.10.8 ('.venv': poetry)",
   "language": "python",
   "name": "python3"
  },
  "language_info": {
   "codemirror_mode": {
    "name": "ipython",
    "version": 3
   },
   "file_extension": ".py",
   "mimetype": "text/x-python",
   "name": "python",
   "nbconvert_exporter": "python",
   "pygments_lexer": "ipython3",
   "version": "3.10.8"
  },
  "orig_nbformat": 4,
  "vscode": {
   "interpreter": {
    "hash": "2cae6e859e27d12be252c23ce67a15a782a381a01490c9849fc2fc36295ab1c1"
   }
  }
 },
 "nbformat": 4,
 "nbformat_minor": 2
}
